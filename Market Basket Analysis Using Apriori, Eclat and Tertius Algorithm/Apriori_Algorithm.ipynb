{
 "cells": [
  {
   "cell_type": "code",
   "execution_count": 1,
   "id": "5c96ad69",
   "metadata": {},
   "outputs": [],
   "source": [
    "import pandas as pd\n",
    "from mlxtend.preprocessing import TransactionEncoder\n",
    "from mlxtend.frequent_patterns import apriori, association_rules"
   ]
  },
  {
   "cell_type": "code",
   "execution_count": 7,
   "id": "f5c3a23d",
   "metadata": {},
   "outputs": [],
   "source": [
    "# Load the dataset from CSV\n",
    "df = pd.read_csv('GroceriesData.csv')"
   ]
  },
  {
   "cell_type": "code",
   "execution_count": 5,
   "id": "59631fec",
   "metadata": {},
   "outputs": [],
   "source": [
    "# Convert the data to the required format for Apriori algorithm\n",
    "transactions = df.groupby('Member_number')['itemDescription'].apply(list).values.tolist()\n",
    "\n",
    "# Convert the transaction data to a binary matrix\n",
    "te = TransactionEncoder()\n",
    "te_ary = te.fit(transactions).transform(transactions)\n",
    "df_apriori = pd.DataFrame(te_ary, columns=te.columns_)\n",
    "\n",
    "# Apply Apriori algorithm to find frequent itemsets\n",
    "frequent_itemsets = apriori(df_apriori, min_support=0.01, use_colnames=True)\n",
    "\n",
    "# Generate association rules\n",
    "rules = association_rules(frequent_itemsets, metric=\"confidence\", min_threshold=0.5)"
   ]
  },
  {
   "cell_type": "code",
   "execution_count": 6,
   "id": "d3dad07b",
   "metadata": {},
   "outputs": [
    {
     "name": "stdout",
     "output_type": "stream",
     "text": [
      "Frequent Itemsets:\n",
      "       support                                           itemsets\n",
      "0     0.015393                            (Instant food products)\n",
      "1     0.078502                                         (UHT-milk)\n",
      "2     0.031042                                    (baking powder)\n",
      "3     0.119548                                             (beef)\n",
      "4     0.079785                                          (berries)\n",
      "...        ...                                                ...\n",
      "3011  0.011031     (yogurt, whipped/sour cream, whole milk, soda)\n",
      "3012  0.010518  (bottled water, yogurt, other vegetables, roll...\n",
      "3013  0.013597  (yogurt, other vegetables, rolls/buns, sausage...\n",
      "3014  0.010005  (yogurt, other vegetables, shopping bags, roll...\n",
      "3015  0.013597  (soda, yogurt, other vegetables, rolls/buns, w...\n",
      "\n",
      "[3016 rows x 2 columns]\n",
      "\n",
      "Association Rules:\n",
      "                                            antecedents         consequents  \\\n",
      "0                                            (UHT-milk)        (whole milk)   \n",
      "1                                                (beef)        (whole milk)   \n",
      "2                                        (bottled beer)        (whole milk)   \n",
      "3                                       (bottled water)        (whole milk)   \n",
      "4                                         (brown bread)        (whole milk)   \n",
      "...                                                 ...                 ...   \n",
      "1112  (other vegetables, shopping bags, yogurt, roll...        (whole milk)   \n",
      "1113  (other vegetables, shopping bags, whole milk, ...        (rolls/buns)   \n",
      "1114    (shopping bags, whole milk, yogurt, rolls/buns)  (other vegetables)   \n",
      "1115       (other vegetables, yogurt, soda, rolls/buns)        (whole milk)   \n",
      "1116             (yogurt, whole milk, soda, rolls/buns)  (other vegetables)   \n",
      "\n",
      "      antecedent support  consequent support   support  confidence      lift  \\\n",
      "0               0.078502            0.458184  0.040534    0.516340  1.126928   \n",
      "1               0.119548            0.458184  0.064135    0.536481  1.170886   \n",
      "2               0.158799            0.458184  0.085428    0.537964  1.174124   \n",
      "3               0.213699            0.458184  0.112365    0.525810  1.147597   \n",
      "4               0.135967            0.458184  0.069779    0.513208  1.120091   \n",
      "...                  ...                 ...       ...         ...       ...   \n",
      "1112            0.014110            0.458184  0.010005    0.709091  1.547613   \n",
      "1113            0.017958            0.349666  0.010005    0.557143  1.593355   \n",
      "1114            0.016932            0.376603  0.010005    0.590909  1.569049   \n",
      "1115            0.020010            0.458184  0.013597    0.679487  1.483002   \n",
      "1116            0.024628            0.376603  0.013597    0.552083  1.465954   \n",
      "\n",
      "      leverage  conviction  zhangs_metric  \n",
      "0     0.004565    1.120242       0.122227  \n",
      "1     0.009360    1.168919       0.165762  \n",
      "2     0.012669    1.172672       0.176297  \n",
      "3     0.014452    1.142615       0.163569  \n",
      "4     0.007481    1.113034       0.124087  \n",
      "...        ...         ...            ...  \n",
      "1112  0.003540    1.862494       0.358908  \n",
      "1113  0.003726    1.468495       0.379203  \n",
      "1114  0.003629    1.523858       0.368918  \n",
      "1115  0.004428    1.690467       0.332342  \n",
      "1116  0.004322    1.391769       0.325876  \n",
      "\n",
      "[1117 rows x 10 columns]\n"
     ]
    }
   ],
   "source": [
    "print(\"Frequent Itemsets:\")\n",
    "print(frequent_itemsets)\n",
    "\n",
    "print(\"\\nAssociation Rules:\")\n",
    "print(rules)"
   ]
  },
  {
   "cell_type": "code",
   "execution_count": null,
   "id": "eb781a79",
   "metadata": {},
   "outputs": [],
   "source": []
  }
 ],
 "metadata": {
  "kernelspec": {
   "display_name": "Python 3 (ipykernel)",
   "language": "python",
   "name": "python3"
  },
  "language_info": {
   "codemirror_mode": {
    "name": "ipython",
    "version": 3
   },
   "file_extension": ".py",
   "mimetype": "text/x-python",
   "name": "python",
   "nbconvert_exporter": "python",
   "pygments_lexer": "ipython3",
   "version": "3.11.5"
  }
 },
 "nbformat": 4,
 "nbformat_minor": 5
}
