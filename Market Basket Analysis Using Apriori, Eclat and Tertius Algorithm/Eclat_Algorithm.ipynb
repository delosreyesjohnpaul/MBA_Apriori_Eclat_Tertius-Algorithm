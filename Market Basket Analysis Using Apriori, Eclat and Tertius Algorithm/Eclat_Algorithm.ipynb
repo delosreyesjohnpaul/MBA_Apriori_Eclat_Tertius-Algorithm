{
 "cells": [
  {
   "cell_type": "code",
   "execution_count": 22,
   "id": "4f83aec5",
   "metadata": {},
   "outputs": [
    {
     "name": "stdout",
     "output_type": "stream",
     "text": [
      "Frequent Itemsets:\n",
      "       support                   itemsets\n",
      "0     0.015393                        (0)\n",
      "1     0.078502                        (1)\n",
      "2     0.031042                        (6)\n",
      "3     0.119548                        (8)\n",
      "4     0.079785                        (9)\n",
      "...        ...                        ...\n",
      "3011  0.011031       (160, 138, 164, 165)\n",
      "3012  0.010518   (164, 165, 102, 12, 122)\n",
      "3013  0.013597  (130, 164, 165, 102, 122)\n",
      "3014  0.010005  (164, 133, 102, 165, 122)\n",
      "3015  0.013597  (164, 165, 102, 138, 122)\n",
      "\n",
      "[3016 rows x 2 columns]\n"
     ]
    }
   ],
   "source": [
    "import pandas as pd\n",
    "from mlxtend.preprocessing import TransactionEncoder\n",
    "from mlxtend.frequent_patterns import apriori as eclat\n",
    "\n",
    "\n",
    "# Load the dataset from CSV\n",
    "df = pd.read_csv('GroceriesData.csv')\n",
    "\n",
    "# Convert the data to the required format for Eclat algorithm\n",
    "transactions = df.groupby('Member_number')['itemDescription'].apply(list).values.tolist()\n",
    "\n",
    "# Convert the transaction data to a binary matrix\n",
    "te = TransactionEncoder()\n",
    "te_ary = te.fit(transactions).transform(transactions)\n",
    "df_eclat = pd.DataFrame(te_ary, columns=te.columns_)\n",
    "\n",
    "# Apply Eclat algorithm to find frequent itemsets\n",
    "frequent_itemsets = eclat(df_eclat, min_support=0.01)  # Adjust the support threshold as needed\n",
    "\n",
    "# Display results\n",
    "print(\"Frequent Itemsets:\")\n",
    "print(frequent_itemsets)\n"
   ]
  },
  {
   "cell_type": "code",
   "execution_count": null,
   "id": "5c538f83",
   "metadata": {},
   "outputs": [],
   "source": []
  }
 ],
 "metadata": {
  "kernelspec": {
   "display_name": "Python 3 (ipykernel)",
   "language": "python",
   "name": "python3"
  },
  "language_info": {
   "codemirror_mode": {
    "name": "ipython",
    "version": 3
   },
   "file_extension": ".py",
   "mimetype": "text/x-python",
   "name": "python",
   "nbconvert_exporter": "python",
   "pygments_lexer": "ipython3",
   "version": "3.11.5"
  }
 },
 "nbformat": 4,
 "nbformat_minor": 5
}
